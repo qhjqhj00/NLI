{
 "cells": [
  {
   "cell_type": "code",
   "execution_count": 1,
   "metadata": {},
   "outputs": [
    {
     "name": "stderr",
     "output_type": "stream",
     "text": [
      "Paddle enabled successfully......\n"
     ]
    }
   ],
   "source": [
    "import pandas as pd\n",
    "import unicodedata\n",
    "import jieba\n",
    "import jieba.posseg as pseg\n",
    "jieba.enable_paddle()\n",
    "%matplotlib inline"
   ]
  },
  {
   "cell_type": "code",
   "execution_count": 2,
   "metadata": {},
   "outputs": [],
   "source": [
    "df = pd.read_csv('train.csv', dtype=str)"
   ]
  },
  {
   "cell_type": "code",
   "execution_count": 3,
   "metadata": {},
   "outputs": [
    {
     "data": {
      "text/html": [
       "<div>\n",
       "<style scoped>\n",
       "    .dataframe tbody tr th:only-of-type {\n",
       "        vertical-align: middle;\n",
       "    }\n",
       "\n",
       "    .dataframe tbody tr th {\n",
       "        vertical-align: top;\n",
       "    }\n",
       "\n",
       "    .dataframe thead th {\n",
       "        text-align: right;\n",
       "    }\n",
       "</style>\n",
       "<table border=\"1\" class=\"dataframe\">\n",
       "  <thead>\n",
       "    <tr style=\"text-align: right;\">\n",
       "      <th></th>\n",
       "      <th>category</th>\n",
       "      <th>query1</th>\n",
       "      <th>query2</th>\n",
       "      <th>label</th>\n",
       "    </tr>\n",
       "  </thead>\n",
       "  <tbody>\n",
       "    <tr>\n",
       "      <th>0</th>\n",
       "      <td>咳血</td>\n",
       "      <td>剧烈运动后咯血,是怎么了?</td>\n",
       "      <td>剧烈运动后咯血是什么原因？</td>\n",
       "      <td>1</td>\n",
       "    </tr>\n",
       "    <tr>\n",
       "      <th>1</th>\n",
       "      <td>咳血</td>\n",
       "      <td>剧烈运动后咯血,是怎么了?</td>\n",
       "      <td>剧烈运动后为什么会咯血？</td>\n",
       "      <td>1</td>\n",
       "    </tr>\n",
       "    <tr>\n",
       "      <th>2</th>\n",
       "      <td>咳血</td>\n",
       "      <td>剧烈运动后咯血,是怎么了?</td>\n",
       "      <td>剧烈运动后咯血，应该怎么处理？</td>\n",
       "      <td>0</td>\n",
       "    </tr>\n",
       "    <tr>\n",
       "      <th>3</th>\n",
       "      <td>咳血</td>\n",
       "      <td>剧烈运动后咯血,是怎么了?</td>\n",
       "      <td>剧烈运动后咯血，需要就医吗？</td>\n",
       "      <td>0</td>\n",
       "    </tr>\n",
       "    <tr>\n",
       "      <th>4</th>\n",
       "      <td>咳血</td>\n",
       "      <td>剧烈运动后咯血,是怎么了?</td>\n",
       "      <td>剧烈运动后咯血，是否很严重？</td>\n",
       "      <td>0</td>\n",
       "    </tr>\n",
       "  </tbody>\n",
       "</table>\n",
       "</div>"
      ],
      "text/plain": [
       "  category         query1           query2 label\n",
       "0       咳血  剧烈运动后咯血,是怎么了?    剧烈运动后咯血是什么原因？     1\n",
       "1       咳血  剧烈运动后咯血,是怎么了?     剧烈运动后为什么会咯血？     1\n",
       "2       咳血  剧烈运动后咯血,是怎么了?  剧烈运动后咯血，应该怎么处理？     0\n",
       "3       咳血  剧烈运动后咯血,是怎么了?   剧烈运动后咯血，需要就医吗？     0\n",
       "4       咳血  剧烈运动后咯血,是怎么了?   剧烈运动后咯血，是否很严重？     0"
      ]
     },
     "execution_count": 3,
     "metadata": {},
     "output_type": "execute_result"
    }
   ],
   "source": [
    "df.head()"
   ]
  },
  {
   "cell_type": "code",
   "execution_count": 4,
   "metadata": {},
   "outputs": [
    {
     "data": {
      "text/html": [
       "<div>\n",
       "<style scoped>\n",
       "    .dataframe tbody tr th:only-of-type {\n",
       "        vertical-align: middle;\n",
       "    }\n",
       "\n",
       "    .dataframe tbody tr th {\n",
       "        vertical-align: top;\n",
       "    }\n",
       "\n",
       "    .dataframe thead th {\n",
       "        text-align: right;\n",
       "    }\n",
       "</style>\n",
       "<table border=\"1\" class=\"dataframe\">\n",
       "  <thead>\n",
       "    <tr style=\"text-align: right;\">\n",
       "      <th></th>\n",
       "      <th>category</th>\n",
       "      <th>query1</th>\n",
       "      <th>query2</th>\n",
       "      <th>label</th>\n",
       "    </tr>\n",
       "  </thead>\n",
       "  <tbody>\n",
       "    <tr>\n",
       "      <th>350</th>\n",
       "      <td>支原体肺炎</td>\n",
       "      <td>小儿支原体肺炎怎样能彻底治愈</td>\n",
       "      <td>小儿支原体肺炎如何根治？</td>\n",
       "      <td>NaN</td>\n",
       "    </tr>\n",
       "    <tr>\n",
       "      <th>351</th>\n",
       "      <td>支原体肺炎</td>\n",
       "      <td>小儿支原体肺炎怎样能彻底治愈</td>\n",
       "      <td>小儿支原体肺炎怎样可以彻底治好？</td>\n",
       "      <td>NaN</td>\n",
       "    </tr>\n",
       "    <tr>\n",
       "      <th>352</th>\n",
       "      <td>支原体肺炎</td>\n",
       "      <td>小儿支原体肺炎怎样能彻底治愈</td>\n",
       "      <td>小孩支原体肺炎多久能痊愈？</td>\n",
       "      <td>NaN</td>\n",
       "    </tr>\n",
       "    <tr>\n",
       "      <th>353</th>\n",
       "      <td>支原体肺炎</td>\n",
       "      <td>小儿支原体肺炎怎样能彻底治愈</td>\n",
       "      <td>如何诊断小儿支原体肺炎？</td>\n",
       "      <td>NaN</td>\n",
       "    </tr>\n",
       "    <tr>\n",
       "      <th>354</th>\n",
       "      <td>支原体肺炎</td>\n",
       "      <td>小儿支原体肺炎怎样能彻底治愈</td>\n",
       "      <td>小儿支原体肺炎有哪些病症？</td>\n",
       "      <td>NaN</td>\n",
       "    </tr>\n",
       "    <tr>\n",
       "      <th>8052</th>\n",
       "      <td>哮喘</td>\n",
       "      <td>请问，怎么可以治疗哮喘病</td>\n",
       "      <td>哮喘病发吃什么有效？</td>\n",
       "      <td>NaN</td>\n",
       "    </tr>\n",
       "  </tbody>\n",
       "</table>\n",
       "</div>"
      ],
      "text/plain": [
       "     category          query1            query2 label\n",
       "350     支原体肺炎  小儿支原体肺炎怎样能彻底治愈      小儿支原体肺炎如何根治？   NaN\n",
       "351     支原体肺炎  小儿支原体肺炎怎样能彻底治愈  小儿支原体肺炎怎样可以彻底治好？   NaN\n",
       "352     支原体肺炎  小儿支原体肺炎怎样能彻底治愈     小孩支原体肺炎多久能痊愈？   NaN\n",
       "353     支原体肺炎  小儿支原体肺炎怎样能彻底治愈      如何诊断小儿支原体肺炎？   NaN\n",
       "354     支原体肺炎  小儿支原体肺炎怎样能彻底治愈     小儿支原体肺炎有哪些病症？   NaN\n",
       "8052       哮喘    请问，怎么可以治疗哮喘病        哮喘病发吃什么有效？   NaN"
      ]
     },
     "execution_count": 4,
     "metadata": {},
     "output_type": "execute_result"
    }
   ],
   "source": [
    "df[df.label.isnull()]"
   ]
  },
  {
   "cell_type": "code",
   "execution_count": 5,
   "metadata": {},
   "outputs": [
    {
     "data": {
      "text/plain": [
       "<matplotlib.axes._subplots.AxesSubplot at 0x111303a58>"
      ]
     },
     "execution_count": 5,
     "metadata": {},
     "output_type": "execute_result"
    },
    {
     "data": {
      "image/png": "[encoded data removed]",
      "text/plain": [
       "<Figure size 432x288 with 1 Axes>"
      ]
     },
     "metadata": {
      "needs_background": "light"
     },
     "output_type": "display_data"
    }
   ],
   "source": [
    "df.groupby(\"label\")['query1'].count().plot.bar()"
   ]
  },
  {
   "cell_type": "code",
   "execution_count": 6,
   "metadata": {},
   "outputs": [
    {
     "name": "stdout",
     "output_type": "stream",
     "text": [
      "请问百令胶囊一天吃多少？\n",
      "请问百令胶囊一天需要服用多少呢？\n",
      "\n",
      "请问百令胶囊一天吃多少？\n",
      "请问百令胶囊是一日三次吗？\n",
      "\n",
      "请问百令胶囊一天吃多少？\n",
      "请问百令胶囊的效果怎么样？\n",
      "\n",
      "请问百令胶囊一天吃多少？\n",
      "请问百令胶囊是苦的还是咸的？\n",
      "\n",
      "请问百令胶囊一天吃多少？\n",
      "请问百令胶囊的注意事项是什么？\n",
      "\n",
      "康尔佳益肺止咳胶囊发烧了是不是副作用？\n",
      "康尔佳益肺止咳胶囊会不会产生发烧的副作用？\n",
      "\n",
      "康尔佳益肺止咳胶囊发烧了是不是副作用？\n",
      "康尔佳益肺止咳胶囊是不是会有发烧的不良反应？\n",
      "\n",
      "康尔佳益肺止咳胶囊发烧了是不是副作用？\n",
      "康尔佳益肺止咳胶囊有什么作用？\n",
      "\n",
      "康尔佳益肺止咳胶囊发烧了是不是副作用？\n",
      "康尔佳益肺止咳胶囊可以治疗发烧吗？\n",
      "\n",
      "康尔佳益肺止咳胶囊发烧了是不是副作用？\n",
      "康尔佳益肺止咳胶囊怎么服用？\n",
      "\n"
     ]
    }
   ],
   "source": [
    "a = 100\n",
    "for i in range(a,a+10):\n",
    "    print(df.query1[i])\n",
    "    print(df.query2[i])\n",
    "    print()"
   ]
  },
  {
   "cell_type": "code",
   "execution_count": 7,
   "metadata": {},
   "outputs": [],
   "source": [
    "def words(s):\n",
    "    s = unicodedata.normalize('NFKC', s).lower()\n",
    "    return [word for word, pos in pseg.cut(s, use_paddle=True) if pos != 'w']\n",
    "\n",
    "def process1(row):\n",
    "    w1 = words(row['query1'])\n",
    "    w2 = words(row['query2'])\n",
    "    q1 = set(w1)\n",
    "    q2 = set(w2)\n",
    "    return ' '.join([x for x in w1 if x in q1-q2])\n",
    "\n",
    "def process2(row):\n",
    "    w1 = words(row['query1'])\n",
    "    w2 = words(row['query2'])\n",
    "    q1 = set(w1)\n",
    "    q2 = set(w2)\n",
    "    return ' '.join([x for x in w2 if x in q2-q1])"
   ]
  },
  {
   "cell_type": "code",
   "execution_count": 8,
   "metadata": {},
   "outputs": [],
   "source": [
    "df['query1seg'] = df.apply(process1, axis=1)\n",
    "df['query2seg'] = df.apply(process2, axis=1)"
   ]
  },
  {
   "cell_type": "code",
   "execution_count": 9,
   "metadata": {},
   "outputs": [
    {
     "name": "stdout",
     "output_type": "stream",
     "text": [
      "吃\n",
      "需要 服用 呢\n",
      "\n",
      "一天 吃 多少\n",
      "是 一日 三次 吗\n",
      "\n",
      "一天 吃 多少\n",
      "的 效果 怎么样\n",
      "\n",
      "一天 吃 多少\n",
      "是 苦 的 还是 咸 的\n",
      "\n",
      "一天 吃 多少\n",
      "的 注意 事项 是 什么\n",
      "\n",
      "了 是不是\n",
      "会不会 产生 的\n",
      "\n",
      "了 副作用\n",
      "会 有 的 不良 反应\n",
      "\n",
      "发烧 了 是不是 副作用\n",
      "有 什么 作用\n",
      "\n",
      "了 是不是 副作用\n",
      "可以 治疗 吗\n",
      "\n",
      "发烧 了 是不是 副作用\n",
      "怎么 服用\n",
      "\n"
     ]
    }
   ],
   "source": [
    "a = 100\n",
    "for i in range(a,a+10):\n",
    "    print(df.query1seg[i])\n",
    "    print(df.query2seg[i])\n",
    "    print()"
   ]
  },
  {
   "cell_type": "markdown",
   "metadata": {},
   "source": [
    "# bow + xgboost Mode"
   ]
  },
  {
   "cell_type": "code",
   "execution_count": 10,
   "metadata": {},
   "outputs": [],
   "source": [
    "from sklearn.feature_extraction.text import CountVectorizer\n",
    "from sklearn.model_selection import train_test_split\n",
    "import scipy\n",
    "import xgboost as xgb"
   ]
  },
  {
   "cell_type": "code",
   "execution_count": 11,
   "metadata": {},
   "outputs": [],
   "source": [
    "df = df.dropna(how=\"any\").reset_index(drop=True)\n",
    "\n",
    "count_vect = CountVectorizer(analyzer='word', token_pattern=r'\\w{1,}')\n",
    "count_vect.fit(pd.concat((df['query1seg'],df['query2seg'])).unique())\n",
    "trainq1_trans = count_vect.transform(df['query1seg'].values)\n",
    "trainq2_trans = count_vect.transform(df['query2seg'].values)\n",
    "labels = df['label'].values\n",
    "X = scipy.sparse.hstack((trainq1_trans, trainq2_trans))\n",
    "y = labels"
   ]
  },
  {
   "cell_type": "code",
   "execution_count": 12,
   "metadata": {},
   "outputs": [],
   "source": [
    "X_train,X_valid,y_train,y_valid = train_test_split(X, y, test_size = 0.33, random_state = 42)\n",
    "xgb_model = xgb.XGBClassifier(max_depth=50, n_estimators=80, learning_rate=0.1,\n",
    "                              colsample_bytree=.7, gamma=0, reg_alpha=4,\n",
    "                              objective='binary:logistic', eta=0.3,\n",
    "                              silent=1, subsample=0.8).fit(X_train, y_train) \n",
    "xgb_prediction = xgb_model.predict(X_valid)"
   ]
  },
  {
   "cell_type": "code",
   "execution_count": 13,
   "metadata": {},
   "outputs": [
    {
     "name": "stdout",
     "output_type": "stream",
     "text": [
      "training score: 0.8624068582802608\n",
      "validation score: 0.8213166394045379\n",
      "              precision    recall  f1-score   support\n",
      "\n",
      "           0       0.87      0.84      0.86      1745\n",
      "           1       0.77      0.80      0.79      1142\n",
      "\n",
      "    accuracy                           0.83      2887\n",
      "   macro avg       0.82      0.82      0.82      2887\n",
      "weighted avg       0.83      0.83      0.83      2887\n",
      "\n"
     ]
    }
   ],
   "source": [
    "from sklearn.metrics import f1_score, classification_report, accuracy_score\n",
    "\n",
    "print('training score:', f1_score(y_train, xgb_model.predict(X_train), average='macro'))\n",
    "print('validation score:', f1_score(y_valid, xgb_model.predict(X_valid), average='macro'))\n",
    "print(classification_report(y_valid, xgb_prediction))"
   ]
  },
  {
   "cell_type": "code",
   "execution_count": null,
   "metadata": {},
   "outputs": [],
   "source": []
  }
 ],
 "metadata": {
  "kernelspec": {
   "display_name": "Python 3",
   "language": "python",
   "name": "python3"
  },
  "language_info": {
   "codemirror_mode": {
    "name": "ipython",
    "version": 3
   },
   "file_extension": ".py",
   "mimetype": "text/x-python",
   "name": "python",
   "nbconvert_exporter": "python",
   "pygments_lexer": "ipython3",
   "version": "3.7.1"
  }
 },
 "nbformat": 4,
 "nbformat_minor": 2
}
