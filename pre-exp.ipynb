{
 "cells": [
  {
   "cell_type": "code",
   "execution_count": 1,
   "metadata": {},
   "outputs": [],
   "source": [
    "from d import Dict"
   ]
  },
  {
   "cell_type": "code",
   "execution_count": 2,
   "metadata": {},
   "outputs": [],
   "source": [
    "def load(path):\n",
    "    data = open(path).read().strip().split('\\n')[1:]\n",
    "    data = [s.split(',') for s in data]\n",
    "    return data\n",
    "\n",
    "def replace(sentence):\n",
    "    candicates = dic.multi_max_match(sentence)\n",
    "    for k in candicates:\n",
    "        placeholder = list(candicates[k]['value'].values())[0]\n",
    "        sentence = sentence.replace(k, placeholder)\n",
    "    return sentence\n",
    "        \n",
    "def process_data(path, save_path):\n",
    "    data = load(path)\n",
    "    with open(save_path, 'w') as f:\n",
    "        for s in data:\n",
    "            s2 = replace(s[2])\n",
    "            s1 = replace(s[1])\n",
    "            f.write(f'{s[-1]}\\t{s1}[SEP]{s2}\\n')"
   ]
  },
  {
   "cell_type": "code",
   "execution_count": 3,
   "metadata": {},
   "outputs": [],
   "source": [
    "dic = Dict('data')\n",
    "process_data('data/dev.csv', 'data/dev.txt')\n",
    "process_data('data/train.csv', 'data/train.txt')"
   ]
  },
  {
   "cell_type": "code",
   "execution_count": null,
   "metadata": {},
   "outputs": [],
   "source": []
  }
 ],
 "metadata": {
  "kernelspec": {
   "display_name": "Python 3",
   "language": "python",
   "name": "python3"
  },
  "language_info": {
   "codemirror_mode": {
    "name": "ipython",
    "version": 3
   },
   "file_extension": ".py",
   "mimetype": "text/x-python",
   "name": "python",
   "nbconvert_exporter": "python",
   "pygments_lexer": "ipython3",
   "version": "3.7.3"
  }
 },
 "nbformat": 4,
 "nbformat_minor": 2
}
