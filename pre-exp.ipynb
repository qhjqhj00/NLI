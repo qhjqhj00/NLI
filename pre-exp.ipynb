{
 "cells": [
  {
   "cell_type": "code",
   "execution_count": 1,
   "metadata": {},
   "outputs": [
    {
     "name": "stdout",
     "output_type": "stream",
     "text": [
      "{'Country': '中华人民共和国'}\n",
      "{'中国': {'value': {'Country': '中华人民共和国'}, 'hits': [{'start': 0, 'end': 2}, {'start': 11, 'end': 13}]}, '中国人民': {'value': {'People': '中华人民共和国合法公民'}, 'hits': [{'start': 0, 'end': 4}]}}\n",
      "{'中国人民': {'value': {'People': '中华人民共和国合法公民'}, 'hits': [{'start': 0, 'end': 4}]}, '中国': {'value': {'Country': '中华人民共和国'}, 'hits': [{'start': 11, 'end': 13}]}}\n"
     ]
    }
   ],
   "source": [
    "from d import Dict\n",
    "\n",
    "\n",
    "d = Dict(\"data\")\n",
    "d[\"中国\"] = {\"Country\": \"中华人民共和国\"}\n",
    "d[\"中国人民\"] = {\"People\": \"中华人民共和国合法公民\"}\n",
    "d.save()\n",
    "x = d['中国']\n",
    "print(x)\n",
    "ret = d.multi_match(\"中国人民是伟大的人民,中国近年来的发展有目共睹\")\n",
    "print(ret)\n",
    "ret = d.multi_max_match(\"中国人民是伟大的人民,中国近年来的发展有目共睹\")\n",
    "print(ret)"
   ]
  },
  {
   "cell_type": "code",
   "execution_count": null,
   "metadata": {},
   "outputs": [],
   "source": []
  }
 ],
 "metadata": {
  "kernelspec": {
   "display_name": "Python 3",
   "language": "python",
   "name": "python3"
  },
  "language_info": {
   "codemirror_mode": {
    "name": "ipython",
    "version": 3
   },
   "file_extension": ".py",
   "mimetype": "text/x-python",
   "name": "python",
   "nbconvert_exporter": "python",
   "pygments_lexer": "ipython3",
   "version": "3.7.3"
  }
 },
 "nbformat": 4,
 "nbformat_minor": 2
}
